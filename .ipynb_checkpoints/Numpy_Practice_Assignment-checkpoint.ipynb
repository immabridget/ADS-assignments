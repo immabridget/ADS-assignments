{
 "cells": [
  {
   "cell_type": "markdown",
   "metadata": {
    "id": "-7J_lE4-YPLq"
   },
   "source": [
    "### <font color=\"green\">1.1 Challenge: Importing our Library</font>"
   ]
  },
  {
   "cell_type": "code",
   "execution_count": 2,
   "metadata": {
    "id": "9l8Juvt-bRgz"
   },
   "outputs": [],
   "source": [
    "# Let's import numpy\n",
    "import numpy as np"
   ]
  },
  {
   "cell_type": "markdown",
   "metadata": {
    "id": "cnaEkfAtY5n1"
   },
   "source": [
    "### <font color=\"green\">1.2 Challenge: Creating an Array</font>"
   ]
  },
  {
   "cell_type": "code",
   "execution_count": 3,
   "metadata": {
    "id": "43Q-yy08bG0B"
   },
   "outputs": [
    {
     "name": "stdout",
     "output_type": "stream",
     "text": [
      "[0 0 0 0 0]\n"
     ]
    }
   ],
   "source": [
    "# Challenge 1\n",
    "# Create an array of five zeros\n",
    "myarr = np.zeros(5, dtype=('int'))\n",
    "print(myarr)"
   ]
  },
  {
   "cell_type": "code",
   "execution_count": 4,
   "metadata": {
    "id": "Y-ZMS064b8Ck"
   },
   "outputs": [
    {
     "name": "stdout",
     "output_type": "stream",
     "text": [
      "[1 1 1 1 1 1]\n"
     ]
    }
   ],
   "source": [
    "# Challenge 2\n",
    "# Create an array of six ones\n",
    "arr1=np.ones(6,dtype=('int'))\n",
    "print(arr1)\n"
   ]
  },
  {
   "cell_type": "code",
   "execution_count": 13,
   "metadata": {
    "id": "FOaIYiBGb74H"
   },
   "outputs": [
    {
     "name": "stdout",
     "output_type": "stream",
     "text": [
      "[10 11 12 13 14 15 16 17 18 19 20 21 22 23 24 25 26 27 28 29 30 31 32 33\n",
      " 34 35 36 37 38 39 40 41 42 43 44 45 46 47 48 49 50]\n"
     ]
    }
   ],
   "source": [
    "# Challenge 3\n",
    "# Create an array of the integers from 10 to 50\n",
    "arr2=np.arange(10,51)\n",
    "print(arr2)\n"
   ]
  },
  {
   "cell_type": "code",
   "execution_count": 17,
   "metadata": {
    "id": "FmmY6xLSb7t8"
   },
   "outputs": [
    {
     "name": "stdout",
     "output_type": "stream",
     "text": [
      "[21 24 27 30 33 36 39 42 45 48 51 54 57]\n"
     ]
    }
   ],
   "source": [
    "# Challenge 4\n",
    "# Create an array of odd integers from 20 to 60\n",
    "arr3 = np.arange(21, 60,3)\n",
    "print(arr3)\n"
   ]
  },
  {
   "cell_type": "code",
   "execution_count": 20,
   "metadata": {
    "id": "ht0VpxEXb7kG"
   },
   "outputs": [
    {
     "name": "stdout",
     "output_type": "stream",
     "text": [
      "[0.81303178 0.84403523 0.93982656 0.14966239 0.13323183 0.73142304\n",
      " 0.70422095 0.91004296 0.34066011 0.80948014 0.08061212 0.27116427\n",
      " 0.83404829 0.42789013 0.64500776 0.760702   0.80600397 0.77173367\n",
      " 0.95441362 0.69104679 0.63927028 0.03546214 0.28769605 0.84235015\n",
      " 0.72870645]\n"
     ]
    }
   ],
   "source": [
    "# Challenge 5\n",
    "# Create an array of 25 random numbers\n",
    "arr4=np.random.rand(25)\n",
    "print(arr4)\n"
   ]
  },
  {
   "cell_type": "markdown",
   "metadata": {
    "id": "ICXG_crZZAw8"
   },
   "source": [
    "### <font color=\"green\">1.3 Working with Matrices</font>"
   ]
  },
  {
   "cell_type": "code",
   "execution_count": 7,
   "metadata": {
    "id": "CnM3qTE1b7YF"
   },
   "outputs": [
    {
     "name": "stdout",
     "output_type": "stream",
     "text": [
      "[[ 1  2  3  4]\n",
      " [ 5  6  7  8]\n",
      " [ 9 10 11 12]\n",
      " [13 14 15 16]\n",
      " [17 18 19 20]]\n"
     ]
    }
   ],
   "source": [
    "# Challenge 6\n",
    "# Write code to replicate the expected matrix output\n",
    "# of the cell shown below\n",
    "arr6=np.arange(1,21).reshape(5,4)\n",
    "print(arr6)\n"
   ]
  },
  {
   "cell_type": "code",
   "execution_count": null,
   "metadata": {
    "colab": {
     "base_uri": "https://localhost:8080/",
     "height": 102
    },
    "id": "K5-uPXdEfgjU",
    "outputId": "3d6b0e1d-8e5b-4913-c391-443af2ed2688"
   },
   "outputs": [
    {
     "name": "stdout",
     "output_type": "stream",
     "text": [
      "[[ 1  2  3  4]\n",
      " [ 5  6  7  8]\n",
      " [ 9 10 11 12]\n",
      " [13 14 15 16]\n",
      " [17 18 19 20]]\n"
     ]
    }
   ],
   "source": [
    "# Challenge 6: Expected Output\n",
    "# [Do not run this cell]\n",
    "# The output of this cell will disappear when run"
   ]
  },
  {
   "cell_type": "code",
   "execution_count": 10,
   "metadata": {
    "id": "EH63OkyEb7NU"
   },
   "outputs": [
    {
     "name": "stdout",
     "output_type": "stream",
     "text": [
      "[[14 15 16]\n",
      " [18 19 20]]\n"
     ]
    }
   ],
   "source": [
    "# Challenge 7\n",
    "# Let's write code to replicate the expected matrix output\n",
    "# of the cell shown below\n",
    "arr7=np.array([[14,15,16],[18,19,20]])\n",
    "print(arr7)\n"
   ]
  },
  {
   "cell_type": "code",
   "execution_count": null,
   "metadata": {
    "colab": {
     "base_uri": "https://localhost:8080/",
     "height": 51
    },
    "id": "avA-papFb7Fl",
    "outputId": "aa252745-ee8f-48db-a0ea-f4dad2484177"
   },
   "outputs": [
    {
     "name": "stdout",
     "output_type": "stream",
     "text": [
      "[[14 15 16]\n",
      " [18 19 20]]\n"
     ]
    }
   ],
   "source": [
    "# Challenge 7: Expected Output\n",
    "# [Do not run this cell]\n",
    "# Running this cell will cause the output below to disappear"
   ]
  },
  {
   "cell_type": "code",
   "execution_count": 11,
   "metadata": {
    "id": "nLV_X3kQb68p"
   },
   "outputs": [
    {
     "name": "stdout",
     "output_type": "stream",
     "text": [
      "20\n"
     ]
    }
   ],
   "source": [
    "# Challenge 8\n",
    "# Let's write code to replicate the expected matrix output\n",
    "# of the cell shown below\n",
    "#\n",
    "arr8=np.array(20)\n",
    "print(arr8)"
   ]
  },
  {
   "cell_type": "code",
   "execution_count": 12,
   "metadata": {
    "colab": {
     "base_uri": "https://localhost:8080/",
     "height": 34
    },
    "id": "DxEU0hOEb6y2",
    "outputId": "e206bcc9-90fe-4ff0-f412-60487537707f"
   },
   "outputs": [],
   "source": [
    "# Challenge 8: Expected Output\n",
    "# [Do not run this cell]\n",
    "# Running this cell will cause the output below to disappear"
   ]
  },
  {
   "cell_type": "code",
   "execution_count": 13,
   "metadata": {
    "id": "Dau4PAJfb6oO"
   },
   "outputs": [
    {
     "name": "stdout",
     "output_type": "stream",
     "text": [
      "[[13 14 15 16]\n",
      " [17 18 19 20]]\n"
     ]
    }
   ],
   "source": [
    "# Challenge 9\n",
    "# Let's write code to replicate the expected matrix output\n",
    "# of the cell shown below\n",
    "arr9=np.array([[13,14,15,16],[17,18,19,20]])\n",
    "print(arr9)"
   ]
  },
  {
   "cell_type": "code",
   "execution_count": null,
   "metadata": {
    "colab": {
     "base_uri": "https://localhost:8080/",
     "height": 51
    },
    "id": "Pgj7NWePb6fa",
    "outputId": "c4bc7e8c-bf79-4838-9df5-cf0ee199eec6"
   },
   "outputs": [
    {
     "name": "stdout",
     "output_type": "stream",
     "text": [
      "[[13 14 15 16]\n",
      " [17 18 19 20]]\n"
     ]
    }
   ],
   "source": [
    "# Challenge 9: Expected Output\n",
    "# [Do not run this cell]\n",
    "# Running this cell will cause the output below to disappear"
   ]
  },
  {
   "cell_type": "code",
   "execution_count": 21,
   "metadata": {
    "id": "jLp-pwUyb6R_"
   },
   "outputs": [
    {
     "name": "stdout",
     "output_type": "stream",
     "text": [
      "9.0\n"
     ]
    }
   ],
   "source": [
    "# Challenge 10\n",
    "# Let's find out the mean of first column values\n",
    "# in our matrix in challenge 6 above\n",
    "mymean=arr6[:,0].mean()\n",
    "print(mymean)\n"
   ]
  },
  {
   "cell_type": "code",
   "execution_count": 23,
   "metadata": {
    "id": "i5cFO78Jb6Ee"
   },
   "outputs": [
    {
     "name": "stdout",
     "output_type": "stream",
     "text": [
      "50\n"
     ]
    }
   ],
   "source": [
    "# Challenge 11\n",
    "# Let's find out the sum of second column values\n",
    "# in our matrix in challenge 6 above\n",
    "mysum=arr6[:,1].sum()\n",
    "print(mysum)\n"
   ]
  },
  {
   "cell_type": "code",
   "execution_count": 25,
   "metadata": {
    "id": "kjS2h2jSj7_v"
   },
   "outputs": [
    {
     "name": "stdout",
     "output_type": "stream",
     "text": [
      "[45 50 55 60]\n"
     ]
    }
   ],
   "source": [
    "# Challenge 12\n",
    "# How do we find out the sum of all columns of the challenge 6 output\n",
    "# The resulting array should contain the sums of each column\n",
    "#\n",
    "all_sum=arr6.sum(axis=0)\n",
    "print(all_sum)"
   ]
  }
 ],
 "metadata": {
  "colab": {
   "collapsed_sections": [
    "-7J_lE4-YPLq",
    "cnaEkfAtY5n1",
    "ICXG_crZZAw8"
   ],
   "provenance": [],
   "toc_visible": true
  },
  "kernelspec": {
   "display_name": "Python 3 (ipykernel)",
   "language": "python",
   "name": "python3"
  },
  "language_info": {
   "codemirror_mode": {
    "name": "ipython",
    "version": 3
   },
   "file_extension": ".py",
   "mimetype": "text/x-python",
   "name": "python",
   "nbconvert_exporter": "python",
   "pygments_lexer": "ipython3",
   "version": "3.11.5"
  }
 },
 "nbformat": 4,
 "nbformat_minor": 1
}
